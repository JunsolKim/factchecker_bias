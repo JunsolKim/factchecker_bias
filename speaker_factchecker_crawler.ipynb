{
 "cells": [
  {
   "cell_type": "code",
   "execution_count": 2,
   "id": "d84e194a",
   "metadata": {},
   "outputs": [
    {
     "name": "stderr",
     "output_type": "stream",
     "text": [
      "C:\\Softwares\\Anaconda3\\envs\\pytorch_gpu\\lib\\site-packages\\numpy\\_distributor_init.py:30: UserWarning: loaded more than 1 DLL from .libs:\n",
      "C:\\Softwares\\Anaconda3\\envs\\pytorch_gpu\\lib\\site-packages\\numpy\\.libs\\libopenblas.WCDJNK7YVMPZQ2ME2ZZHJJRJ3JIKNDB7.gfortran-win_amd64.dll\n",
      "C:\\Softwares\\Anaconda3\\envs\\pytorch_gpu\\lib\\site-packages\\numpy\\.libs\\libopenblas.XWYDX2IKJW2NMTWSFYNGFUWKQU3LYTCZ.gfortran-win_amd64.dll\n",
      "  warnings.warn(\"loaded more than 1 DLL from .libs:\"\n"
     ]
    }
   ],
   "source": [
    "from bs4 import BeautifulSoup\n",
    "import requests\n",
    "from tqdm import tqdm\n",
    "from concurrent.futures import ThreadPoolExecutor\n",
    "from functools import reduce\n",
    "from operator import iconcat \n",
    "import pandas as pd"
   ]
  },
  {
   "cell_type": "code",
   "execution_count": 3,
   "id": "2de5eedc",
   "metadata": {},
   "outputs": [],
   "source": [
    "def crawl_speaker(url, fail):\n",
    "    results = []\n",
    "    \n",
    "    try:\n",
    "        page = requests.get(url)\n",
    "        soup = BeautifulSoup(page.content, 'lxml')\n",
    "    except:\n",
    "        fail.append(url)\n",
    "        \n",
    "    try:\n",
    "        name = soup.find(class_ = 'm-pageheader__title')\n",
    "        name_str = name.get_text()\n",
    "        \n",
    "        name_wiki = 'https://en.wikipedia.org/wiki/' + name_str\n",
    "        \n",
    "        description = soup.find(class_ = 'm-pageheader__body')\n",
    "        description_str = description.get_text().strip()\n",
    "        \n",
    "        score = soup.find_all(class_ = 'm-scorecard__checks')\n",
    "        score_vals = [int(i.get_text().strip()[0]) for i in score]\n",
    "        \n",
    "    except:\n",
    "        fail.append(url)\n",
    "        \n",
    "    results.append([name_str,\n",
    "                    name_wiki,\n",
    "                    description_str] + score_vals)\n",
    "    \n",
    "    return results"
   ]
  },
  {
   "cell_type": "code",
   "execution_count": 4,
   "id": "54b189de",
   "metadata": {},
   "outputs": [],
   "source": [
    "def crawl_factchecker(url, fail):\n",
    "    results = []\n",
    "    \n",
    "    try:\n",
    "        page = requests.get(url)\n",
    "        soup = BeautifulSoup(page.content, 'lxml')\n",
    "    except:\n",
    "        fail.append(url)\n",
    "        \n",
    "    try:\n",
    "        name = soup.find(class_ = 'm-pageheader__title')\n",
    "        name_str = name.get_text()\n",
    "        \n",
    "        position = soup.find(class_ = 'label-2')\n",
    "        position_str = position.get_text().strip()\n",
    "        \n",
    "        description = soup.find(class_ = 'm-pageheader__body').find('p')\n",
    "        description_str = description.get_text().strip()\n",
    "        \n",
    "        \n",
    "    except:\n",
    "        fail.append(url)\n",
    "        \n",
    "    results.append([name_str,\n",
    "                    position_str,\n",
    "                    description_str])\n",
    "    \n",
    "    return results"
   ]
  },
  {
   "cell_type": "code",
   "execution_count": 5,
   "id": "894bb83d",
   "metadata": {},
   "outputs": [],
   "source": [
    "df = pd.read_csv('politifact.csv')"
   ]
  }
 ],
 "metadata": {
  "kernelspec": {
   "display_name": "Python 3 (ipykernel)",
   "language": "python",
   "name": "python3"
  },
  "language_info": {
   "codemirror_mode": {
    "name": "ipython",
    "version": 3
   },
   "file_extension": ".py",
   "mimetype": "text/x-python",
   "name": "python",
   "nbconvert_exporter": "python",
   "pygments_lexer": "ipython3",
   "version": "3.8.12"
  }
 },
 "nbformat": 4,
 "nbformat_minor": 5
}
